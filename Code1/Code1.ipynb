{
 "cells": [
  {
   "cell_type": "markdown",
   "id": "refined-antigua",
   "metadata": {},
   "source": [
    "<center><b>In the name of God</b></center>\n",
    "\n",
    "<b>Course</b>: Machine Learning\n",
    "<br>\n",
    "<b>Description:</b> HomeWork 2 | Question 1\n",
    "<br>\n",
    "<b>Developer</b>: Alireza Mazochi (400131075)"
   ]
  },
  {
   "cell_type": "markdown",
   "id": "broadband-conference",
   "metadata": {},
   "source": [
    "# Information"
   ]
  },
  {
   "cell_type": "markdown",
   "id": "controlling-brand",
   "metadata": {},
   "source": [
    "Attribute Information:\n",
    "\n",
    "<nl>\n",
    "    <li>age</li>\n",
    "    <li>sex</li>\n",
    "    <li>chest pain type (4 values)</li>\n",
    "    <li>resting blood pressure</li>\n",
    "    <li>serum cholestoral in mg/dl</li>\n",
    "    <li>fasting blood sugar > 120 mg/dl</li>\n",
    "    <li>resting electrocardiographic results (values 0,1,2)</li>\n",
    "    <li>maximum heart rate achieved</li>\n",
    "    <li>exercise induced angina</li>\n",
    "    <li>oldpeak = ST depression induced by exercise relative to rest</li>\n",
    "    <li>the slope of the peak exercise ST segment</li>\n",
    "    <li>number of major vessels (0-3) colored by flourosopy</li>\n",
    "    <li>thal: 0 = normal; 1 = fixed defect; 2 = reversable defect</li>\n",
    "</nl>\n"
   ]
  },
  {
   "cell_type": "code",
   "execution_count": null,
   "id": "reasonable-communist",
   "metadata": {},
   "outputs": [],
   "source": []
  }
 ],
 "metadata": {
  "kernelspec": {
   "display_name": "Python 3",
   "language": "python",
   "name": "python3"
  },
  "language_info": {
   "codemirror_mode": {
    "name": "ipython",
    "version": 3
   },
   "file_extension": ".py",
   "mimetype": "text/x-python",
   "name": "python",
   "nbconvert_exporter": "python",
   "pygments_lexer": "ipython3",
   "version": "3.9.1"
  }
 },
 "nbformat": 4,
 "nbformat_minor": 5
}
