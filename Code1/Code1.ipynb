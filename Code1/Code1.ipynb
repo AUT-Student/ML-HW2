{
 "cells": [
  {
   "cell_type": "markdown",
   "id": "contrary-bruce",
   "metadata": {},
   "source": [
    "<center><b>In the name of God</b></center>\n",
    "\n",
    "<b>Course</b>: Machine Learning\n",
    "<br>\n",
    "<b>Description:</b> HomeWork 2 | Question 1\n",
    "<br>\n",
    "<b>Developer</b>: Alireza Mazochi (400131075)"
   ]
  },
  {
   "cell_type": "markdown",
   "id": "sapphire-player",
   "metadata": {},
   "source": [
    "# Dataset Information"
   ]
  },
  {
   "cell_type": "markdown",
   "id": "electrical-dependence",
   "metadata": {},
   "source": [
    "<b>Name</b>: Heart Disease Dataset<br>\n",
    "<b>Refrence</b>: https://www.kaggle.com/johnsmith88/heart-disease-dataset"
   ]
  },
  {
   "cell_type": "markdown",
   "id": "saving-secret",
   "metadata": {},
   "source": [
    "## Context\n",
    "\n",
    "This data set dates from 1988 and consists of four databases: Cleveland, Hungary, Switzerland, and Long Beach V. It contains 76 attributes, including the predicted attribute, but all published experiments refer to using a subset of 14 of them. The \"target\" field refers to the presence of heart disease in the patient. It is integer valued 0 = no disease and 1 = disease."
   ]
  },
  {
   "cell_type": "markdown",
   "id": "special-hormone",
   "metadata": {},
   "source": [
    "## Content\n",
    "\n",
    "<nl>\n",
    "    <li>age: age in years</li>\n",
    "    <li>sex: (1 = male; 0 = female)</li>\n",
    "    <li>cp: chest pain type (4 values)</li>\n",
    "    <li>restcg: resting blood pressure (in mm Hg on admission to the hospital)</li>\n",
    "    <li>chol: serum cholestoral in mg/dl</li>\n",
    "    <li>fbs: fasting blood sugar > 120 mg/dl</li>\n",
    "    <li>restecg: resting electrocardiographic results (values 0,1,2)</li>\n",
    "    <li>thalach: maximum heart rate achieved</li>\n",
    "    <li>exang: exercise induced angina(1 = yes; 0 = no)</li>\n",
    "    <li>oldpeak: ST depression induced by exercise relative to rest</li>\n",
    "    <li>slope: the slope of the peak exercise ST segment</li>\n",
    "    <li>ca: number of major vessels (0-3) colored by flourosopy</li>\n",
    "    <li>thal: 0 = normal; 1 = fixed defect; 2 = reversable defect</li>\n",
    "</nl>\n"
   ]
  },
  {
   "cell_type": "markdown",
   "id": "weird-gabriel",
   "metadata": {},
   "source": [
    "# Libraries"
   ]
  },
  {
   "cell_type": "code",
   "execution_count": 68,
   "id": "equivalent-chosen",
   "metadata": {},
   "outputs": [],
   "source": [
    "# Import Allowed Libraries\n",
    "import pandas as pd\n",
    "import numpy as np\n",
    "import matplotlib.pyplot as plt"
   ]
  },
  {
   "cell_type": "code",
   "execution_count": 69,
   "id": "classical-bahrain",
   "metadata": {},
   "outputs": [],
   "source": [
    "data = pd.read_csv(\"heart.csv\")"
   ]
  },
  {
   "cell_type": "code",
   "execution_count": 70,
   "id": "broke-topic",
   "metadata": {},
   "outputs": [],
   "source": [
    "data_train = data.head(int(0.8*len(data)))\n",
    "data_test = data.tail(len(data) - int(0.8*len(data)))"
   ]
  },
  {
   "cell_type": "code",
   "execution_count": 71,
   "id": "reliable-engine",
   "metadata": {},
   "outputs": [
    {
     "data": {
      "text/html": [
       "<div>\n",
       "<style scoped>\n",
       "    .dataframe tbody tr th:only-of-type {\n",
       "        vertical-align: middle;\n",
       "    }\n",
       "\n",
       "    .dataframe tbody tr th {\n",
       "        vertical-align: top;\n",
       "    }\n",
       "\n",
       "    .dataframe thead th {\n",
       "        text-align: right;\n",
       "    }\n",
       "</style>\n",
       "<table border=\"1\" class=\"dataframe\">\n",
       "  <thead>\n",
       "    <tr style=\"text-align: right;\">\n",
       "      <th></th>\n",
       "      <th>age</th>\n",
       "      <th>sex</th>\n",
       "      <th>cp</th>\n",
       "      <th>trestbps</th>\n",
       "      <th>chol</th>\n",
       "      <th>fbs</th>\n",
       "      <th>restecg</th>\n",
       "      <th>thalach</th>\n",
       "      <th>exang</th>\n",
       "      <th>oldpeak</th>\n",
       "      <th>slope</th>\n",
       "      <th>ca</th>\n",
       "      <th>thal</th>\n",
       "      <th>target</th>\n",
       "    </tr>\n",
       "  </thead>\n",
       "  <tbody>\n",
       "    <tr>\n",
       "      <th>0</th>\n",
       "      <td>52</td>\n",
       "      <td>1</td>\n",
       "      <td>0</td>\n",
       "      <td>125</td>\n",
       "      <td>212</td>\n",
       "      <td>0</td>\n",
       "      <td>1</td>\n",
       "      <td>168</td>\n",
       "      <td>0</td>\n",
       "      <td>1.0</td>\n",
       "      <td>2</td>\n",
       "      <td>2</td>\n",
       "      <td>3</td>\n",
       "      <td>0</td>\n",
       "    </tr>\n",
       "    <tr>\n",
       "      <th>1</th>\n",
       "      <td>53</td>\n",
       "      <td>1</td>\n",
       "      <td>0</td>\n",
       "      <td>140</td>\n",
       "      <td>203</td>\n",
       "      <td>1</td>\n",
       "      <td>0</td>\n",
       "      <td>155</td>\n",
       "      <td>1</td>\n",
       "      <td>3.1</td>\n",
       "      <td>0</td>\n",
       "      <td>0</td>\n",
       "      <td>3</td>\n",
       "      <td>0</td>\n",
       "    </tr>\n",
       "    <tr>\n",
       "      <th>2</th>\n",
       "      <td>70</td>\n",
       "      <td>1</td>\n",
       "      <td>0</td>\n",
       "      <td>145</td>\n",
       "      <td>174</td>\n",
       "      <td>0</td>\n",
       "      <td>1</td>\n",
       "      <td>125</td>\n",
       "      <td>1</td>\n",
       "      <td>2.6</td>\n",
       "      <td>0</td>\n",
       "      <td>0</td>\n",
       "      <td>3</td>\n",
       "      <td>0</td>\n",
       "    </tr>\n",
       "    <tr>\n",
       "      <th>3</th>\n",
       "      <td>61</td>\n",
       "      <td>1</td>\n",
       "      <td>0</td>\n",
       "      <td>148</td>\n",
       "      <td>203</td>\n",
       "      <td>0</td>\n",
       "      <td>1</td>\n",
       "      <td>161</td>\n",
       "      <td>0</td>\n",
       "      <td>0.0</td>\n",
       "      <td>2</td>\n",
       "      <td>1</td>\n",
       "      <td>3</td>\n",
       "      <td>0</td>\n",
       "    </tr>\n",
       "    <tr>\n",
       "      <th>4</th>\n",
       "      <td>62</td>\n",
       "      <td>0</td>\n",
       "      <td>0</td>\n",
       "      <td>138</td>\n",
       "      <td>294</td>\n",
       "      <td>1</td>\n",
       "      <td>1</td>\n",
       "      <td>106</td>\n",
       "      <td>0</td>\n",
       "      <td>1.9</td>\n",
       "      <td>1</td>\n",
       "      <td>3</td>\n",
       "      <td>2</td>\n",
       "      <td>0</td>\n",
       "    </tr>\n",
       "    <tr>\n",
       "      <th>...</th>\n",
       "      <td>...</td>\n",
       "      <td>...</td>\n",
       "      <td>...</td>\n",
       "      <td>...</td>\n",
       "      <td>...</td>\n",
       "      <td>...</td>\n",
       "      <td>...</td>\n",
       "      <td>...</td>\n",
       "      <td>...</td>\n",
       "      <td>...</td>\n",
       "      <td>...</td>\n",
       "      <td>...</td>\n",
       "      <td>...</td>\n",
       "      <td>...</td>\n",
       "    </tr>\n",
       "    <tr>\n",
       "      <th>815</th>\n",
       "      <td>58</td>\n",
       "      <td>1</td>\n",
       "      <td>2</td>\n",
       "      <td>105</td>\n",
       "      <td>240</td>\n",
       "      <td>0</td>\n",
       "      <td>0</td>\n",
       "      <td>154</td>\n",
       "      <td>1</td>\n",
       "      <td>0.6</td>\n",
       "      <td>1</td>\n",
       "      <td>0</td>\n",
       "      <td>3</td>\n",
       "      <td>1</td>\n",
       "    </tr>\n",
       "    <tr>\n",
       "      <th>816</th>\n",
       "      <td>70</td>\n",
       "      <td>1</td>\n",
       "      <td>1</td>\n",
       "      <td>156</td>\n",
       "      <td>245</td>\n",
       "      <td>0</td>\n",
       "      <td>0</td>\n",
       "      <td>143</td>\n",
       "      <td>0</td>\n",
       "      <td>0.0</td>\n",
       "      <td>2</td>\n",
       "      <td>0</td>\n",
       "      <td>2</td>\n",
       "      <td>1</td>\n",
       "    </tr>\n",
       "    <tr>\n",
       "      <th>817</th>\n",
       "      <td>45</td>\n",
       "      <td>1</td>\n",
       "      <td>0</td>\n",
       "      <td>115</td>\n",
       "      <td>260</td>\n",
       "      <td>0</td>\n",
       "      <td>0</td>\n",
       "      <td>185</td>\n",
       "      <td>0</td>\n",
       "      <td>0.0</td>\n",
       "      <td>2</td>\n",
       "      <td>0</td>\n",
       "      <td>2</td>\n",
       "      <td>1</td>\n",
       "    </tr>\n",
       "    <tr>\n",
       "      <th>818</th>\n",
       "      <td>42</td>\n",
       "      <td>1</td>\n",
       "      <td>3</td>\n",
       "      <td>148</td>\n",
       "      <td>244</td>\n",
       "      <td>0</td>\n",
       "      <td>0</td>\n",
       "      <td>178</td>\n",
       "      <td>0</td>\n",
       "      <td>0.8</td>\n",
       "      <td>2</td>\n",
       "      <td>2</td>\n",
       "      <td>2</td>\n",
       "      <td>1</td>\n",
       "    </tr>\n",
       "    <tr>\n",
       "      <th>819</th>\n",
       "      <td>58</td>\n",
       "      <td>0</td>\n",
       "      <td>0</td>\n",
       "      <td>170</td>\n",
       "      <td>225</td>\n",
       "      <td>1</td>\n",
       "      <td>0</td>\n",
       "      <td>146</td>\n",
       "      <td>1</td>\n",
       "      <td>2.8</td>\n",
       "      <td>1</td>\n",
       "      <td>2</td>\n",
       "      <td>1</td>\n",
       "      <td>0</td>\n",
       "    </tr>\n",
       "  </tbody>\n",
       "</table>\n",
       "<p>820 rows × 14 columns</p>\n",
       "</div>"
      ],
      "text/plain": [
       "     age  sex  cp  trestbps  chol  fbs  restecg  thalach  exang  oldpeak  \\\n",
       "0     52    1   0       125   212    0        1      168      0      1.0   \n",
       "1     53    1   0       140   203    1        0      155      1      3.1   \n",
       "2     70    1   0       145   174    0        1      125      1      2.6   \n",
       "3     61    1   0       148   203    0        1      161      0      0.0   \n",
       "4     62    0   0       138   294    1        1      106      0      1.9   \n",
       "..   ...  ...  ..       ...   ...  ...      ...      ...    ...      ...   \n",
       "815   58    1   2       105   240    0        0      154      1      0.6   \n",
       "816   70    1   1       156   245    0        0      143      0      0.0   \n",
       "817   45    1   0       115   260    0        0      185      0      0.0   \n",
       "818   42    1   3       148   244    0        0      178      0      0.8   \n",
       "819   58    0   0       170   225    1        0      146      1      2.8   \n",
       "\n",
       "     slope  ca  thal  target  \n",
       "0        2   2     3       0  \n",
       "1        0   0     3       0  \n",
       "2        0   0     3       0  \n",
       "3        2   1     3       0  \n",
       "4        1   3     2       0  \n",
       "..     ...  ..   ...     ...  \n",
       "815      1   0     3       1  \n",
       "816      2   0     2       1  \n",
       "817      2   0     2       1  \n",
       "818      2   2     2       1  \n",
       "819      1   2     1       0  \n",
       "\n",
       "[820 rows x 14 columns]"
      ]
     },
     "execution_count": 71,
     "metadata": {},
     "output_type": "execute_result"
    }
   ],
   "source": [
    "data_train"
   ]
  },
  {
   "cell_type": "code",
   "execution_count": 72,
   "id": "dietary-kenya",
   "metadata": {},
   "outputs": [
    {
     "data": {
      "text/plain": [
       "{0, 1, 2}"
      ]
     },
     "execution_count": 72,
     "metadata": {},
     "output_type": "execute_result"
    }
   ],
   "source": [
    "set(data[\"slope\"].values)"
   ]
  },
  {
   "cell_type": "code",
   "execution_count": 73,
   "id": "employed-governor",
   "metadata": {},
   "outputs": [],
   "source": [
    "data_train_x = data_train.drop(columns=[\"target\"])\n",
    "data_train_y = data_train[[\"target\"]]"
   ]
  },
  {
   "cell_type": "code",
   "execution_count": 74,
   "id": "infectious-bishop",
   "metadata": {},
   "outputs": [],
   "source": [
    "classes = [0, 1]"
   ]
  },
  {
   "cell_type": "code",
   "execution_count": 75,
   "id": "pacific-aruba",
   "metadata": {},
   "outputs": [],
   "source": [
    "p_prior = np.zeros(2)\n",
    "for class_ in classes:\n",
    "    p_prior[class_] = len(data_train_y[data_train_y[\"target\"]==class_]) / len(data_train_y)"
   ]
  },
  {
   "cell_type": "code",
   "execution_count": 45,
   "id": "velvet-bench",
   "metadata": {},
   "outputs": [],
   "source": [
    "discrete_features = [\"sex\", \"cp\", \"fbs\", \"restecg\", \"exang\", \"slope\", \"ca\", \"thal\"]\n",
    "continuous_features = [\"age\", \"trestbps\", \"chol\", \"thalach\", \"oldpeak\"]"
   ]
  },
  {
   "cell_type": "code",
   "execution_count": 57,
   "id": "binary-joyce",
   "metadata": {},
   "outputs": [],
   "source": [
    "# Some checking\n",
    "for feature in discrete_features:\n",
    "    if len(set(data[feature].values)) > 5:\n",
    "        print(set(data[feature].values))\n",
    "        raise Exception(f\"It seems to feature {feature} isn't a discrete feature\")\n",
    "        \n",
    "for feature in continuous_features:\n",
    "    if len(set(data[feature].values)) < 20:\n",
    "        print(set(data[feature].values))\n",
    "        raise Exception(f\"It seems to feature {feature} isn't a continous feature\")"
   ]
  },
  {
   "cell_type": "code",
   "execution_count": 64,
   "id": "respective-elevation",
   "metadata": {},
   "outputs": [],
   "source": [
    "p_likelihood_discrete = []\n",
    "discrete_features_value_number = dict()\n",
    "\n",
    "for class_ in classes:\n",
    "    p_likelihood_discrete.append(dict())\n",
    "    for feature in discrete_features:\n",
    "        discrete_features_value_number[feature] = len(set(data[feature].values))\n",
    "        p_likelihood_discrete[class_][feature] = np.zeros(discrete_features_value_number[feature])\n",
    "    \n",
    "for class_ in classes:\n",
    "    data_class = data_train[data_train[\"target\"]==class_]\n",
    "    for feature in discrete_features:\n",
    "        for value in range(discrete_features_value_number[feature]):\n",
    "            p_likelihood_discrete[class_][feature][value] = len(data_class[data_class[feature]==value]) / len(data_class)"
   ]
  },
  {
   "cell_type": "code",
   "execution_count": 67,
   "id": "vertical-hierarchy",
   "metadata": {},
   "outputs": [
    {
     "name": "stderr",
     "output_type": "stream",
     "text": [
      "<ipython-input-67-5f8fdc7c0bd5>:1: UserWarning: Boolean Series key will be reindexed to match DataFrame index.\n",
      "  data_train[data[\"target\"]==1][\"age\"]\n"
     ]
    },
    {
     "data": {
      "text/plain": [
       "5      58\n",
       "10     71\n",
       "12     34\n",
       "15     34\n",
       "16     51\n",
       "       ..\n",
       "814    62\n",
       "815    58\n",
       "816    70\n",
       "817    45\n",
       "818    42\n",
       "Name: age, Length: 427, dtype: int64"
      ]
     },
     "execution_count": 67,
     "metadata": {},
     "output_type": "execute_result"
    }
   ],
   "source": [
    "data_train[data[\"target\"]==1][\"age\"]"
   ]
  },
  {
   "cell_type": "code",
   "execution_count": null,
   "id": "coastal-essence",
   "metadata": {},
   "outputs": [],
   "source": []
  }
 ],
 "metadata": {
  "kernelspec": {
   "display_name": "Python 3",
   "language": "python",
   "name": "python3"
  },
  "language_info": {
   "codemirror_mode": {
    "name": "ipython",
    "version": 3
   },
   "file_extension": ".py",
   "mimetype": "text/x-python",
   "name": "python",
   "nbconvert_exporter": "python",
   "pygments_lexer": "ipython3",
   "version": "3.9.1"
  }
 },
 "nbformat": 4,
 "nbformat_minor": 5
}
